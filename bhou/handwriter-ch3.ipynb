{
 "cells": [
  {
   "cell_type": "code",
   "execution_count": 1,
   "metadata": {},
   "outputs": [],
   "source": [
    "%matplotlib inline\n",
    "import d2l\n",
    "from mxnet import gluon, init, npx\n",
    "from mxnet.gluon import nn\n",
    "import pandas as pd; pd.__version__\n",
    "npx.set_np()"
   ]
  },
  {
   "cell_type": "code",
   "execution_count": 2,
   "metadata": {},
   "outputs": [],
   "source": [
    "def load_data_mnist(batch_size, resize=None):\n",
    "    dataset = gluon.data.vision\n",
    "    trans = [dataset.transforms.Resize(resize)] if resize else []\n",
    "    trans.append(dataset.transforms.ToTensor())\n",
    "    trans = dataset.transforms.Compose(trans)\n",
    "    mnist_train = dataset.MNIST(train=True).transform_first(trans, lazy=False)\n",
    "    mnist_test = dataset.MNIST(train=False).transform_first(trans, lazy=False)\n",
    "    return (gluon.data.DataLoader(mnist_train, batch_size, shuffle=True,\n",
    "                                  num_workers=d2l.get_dataloader_workers()),\n",
    "            gluon.data.DataLoader(mnist_test, batch_size, shuffle=False,\n",
    "                                  num_workers=d2l.get_dataloader_workers()))\n"
   ]
  },
  {
   "cell_type": "code",
   "execution_count": 3,
   "metadata": {},
   "outputs": [],
   "source": [
    "batch_size = 256\n",
    "train_iter, test_iter = load_data_mnist(batch_size)"
   ]
  },
  {
   "cell_type": "code",
   "execution_count": 4,
   "metadata": {},
   "outputs": [],
   "source": [
    "net = nn.Sequential()\n",
    "net.add(nn.Dense(10))\n",
    "net.initialize(init.Normal(sigma=0.01))"
   ]
  },
  {
   "cell_type": "code",
   "execution_count": 5,
   "metadata": {},
   "outputs": [],
   "source": [
    "loss = gluon.loss.SoftmaxCrossEntropyLoss()"
   ]
  },
  {
   "cell_type": "code",
   "execution_count": 6,
   "metadata": {},
   "outputs": [],
   "source": [
    "trainer = gluon.Trainer(net.collect_params(), 'sgd', {'learning_rate': 0.1})"
   ]
  },
  {
   "cell_type": "code",
   "execution_count": 7,
   "metadata": {},
   "outputs": [],
   "source": [
    "def train_epoch(net, train_iter, loss, updater):\n",
    "    metric = d2l.Accumulator(3)  # train_loss_sum, train_acc_sum, num_examples\n",
    "    if isinstance(updater, gluon.Trainer):\n",
    "        updater = updater.step\n",
    "    for X, y in train_iter:\n",
    "        # Compute gradients and update parameters\n",
    "        with d2l.autograd.record():\n",
    "            y_hat = net(X)\n",
    "            l = loss(y_hat, y)\n",
    "        l.backward()\n",
    "        updater(X.shape[0])\n",
    "        metric.add(float(l.sum()), d2l.accuracy(y_hat, y), y.size)\n",
    "    # Return training loss and training accuracy\n",
    "    return metric[0]/metric[2], metric[1]/metric[2]"
   ]
  },
  {
   "cell_type": "code",
   "execution_count": 8,
   "metadata": {},
   "outputs": [],
   "source": [
    "def train_model(net, train_iter, test_iter, loss, num_epochs, updater):\n",
    "#     animator = d2l.Animator(xlabel='epoch', xlim=[1, num_epochs],\n",
    "#                         ylim=[0.0, 1.0],\n",
    "#                         legend=['train loss', 'train acc', 'test acc'])\n",
    "    for epoch in range(num_epochs):\n",
    "        train_metrics = train_epoch(net, train_iter, loss, updater)\n",
    "        test_acc = d2l.evaluate_accuracy(net, test_iter)\n",
    "        print(f'iter: {epoch} Test Accuracy: {test_acc}')\n",
    "        #animator.add(epoch+1, train_metrics+(test_acc,))"
   ]
  },
  {
   "cell_type": "code",
   "execution_count": 9,
   "metadata": {},
   "outputs": [
    {
     "name": "stdout",
     "output_type": "stream",
     "text": [
      "iter: 0 Test Accuracy: 0.888\n",
      "iter: 1 Test Accuracy: 0.8998\n",
      "iter: 2 Test Accuracy: 0.9063\n",
      "iter: 3 Test Accuracy: 0.9097\n",
      "iter: 4 Test Accuracy: 0.9114\n",
      "iter: 5 Test Accuracy: 0.9141\n",
      "iter: 6 Test Accuracy: 0.9156\n",
      "iter: 7 Test Accuracy: 0.9156\n",
      "iter: 8 Test Accuracy: 0.9175\n",
      "iter: 9 Test Accuracy: 0.9159\n",
      "iter: 10 Test Accuracy: 0.9174\n",
      "iter: 11 Test Accuracy: 0.9178\n",
      "iter: 12 Test Accuracy: 0.9183\n",
      "iter: 13 Test Accuracy: 0.9188\n",
      "iter: 14 Test Accuracy: 0.9181\n",
      "iter: 15 Test Accuracy: 0.9208\n",
      "iter: 16 Test Accuracy: 0.9207\n",
      "iter: 17 Test Accuracy: 0.9207\n",
      "iter: 18 Test Accuracy: 0.9206\n",
      "iter: 19 Test Accuracy: 0.9212\n",
      "iter: 20 Test Accuracy: 0.9201\n",
      "iter: 21 Test Accuracy: 0.9219\n",
      "iter: 22 Test Accuracy: 0.923\n",
      "iter: 23 Test Accuracy: 0.9217\n",
      "iter: 24 Test Accuracy: 0.9208\n",
      "iter: 25 Test Accuracy: 0.9225\n",
      "iter: 26 Test Accuracy: 0.9231\n",
      "iter: 27 Test Accuracy: 0.9221\n",
      "iter: 28 Test Accuracy: 0.9212\n",
      "iter: 29 Test Accuracy: 0.9224\n",
      "iter: 30 Test Accuracy: 0.9229\n",
      "iter: 31 Test Accuracy: 0.9229\n",
      "iter: 32 Test Accuracy: 0.9224\n",
      "iter: 33 Test Accuracy: 0.9226\n",
      "iter: 34 Test Accuracy: 0.9221\n",
      "iter: 35 Test Accuracy: 0.9226\n",
      "iter: 36 Test Accuracy: 0.9228\n",
      "iter: 37 Test Accuracy: 0.9233\n",
      "iter: 38 Test Accuracy: 0.9233\n",
      "iter: 39 Test Accuracy: 0.9227\n",
      "iter: 40 Test Accuracy: 0.9237\n",
      "iter: 41 Test Accuracy: 0.9235\n",
      "iter: 42 Test Accuracy: 0.9214\n",
      "iter: 43 Test Accuracy: 0.9237\n",
      "iter: 44 Test Accuracy: 0.9239\n",
      "iter: 45 Test Accuracy: 0.9231\n",
      "iter: 46 Test Accuracy: 0.9228\n",
      "iter: 47 Test Accuracy: 0.9232\n",
      "iter: 48 Test Accuracy: 0.9232\n",
      "iter: 49 Test Accuracy: 0.9229\n",
      "iter: 50 Test Accuracy: 0.9238\n",
      "iter: 51 Test Accuracy: 0.9235\n",
      "iter: 52 Test Accuracy: 0.9232\n",
      "iter: 53 Test Accuracy: 0.9233\n",
      "iter: 54 Test Accuracy: 0.9235\n",
      "iter: 55 Test Accuracy: 0.9234\n",
      "iter: 56 Test Accuracy: 0.9233\n",
      "iter: 57 Test Accuracy: 0.9235\n",
      "iter: 58 Test Accuracy: 0.9238\n",
      "iter: 59 Test Accuracy: 0.9243\n",
      "iter: 60 Test Accuracy: 0.9245\n",
      "iter: 61 Test Accuracy: 0.9244\n",
      "iter: 62 Test Accuracy: 0.9235\n",
      "iter: 63 Test Accuracy: 0.9229\n",
      "iter: 64 Test Accuracy: 0.9233\n",
      "iter: 65 Test Accuracy: 0.9243\n",
      "iter: 66 Test Accuracy: 0.923\n",
      "iter: 67 Test Accuracy: 0.9232\n",
      "iter: 68 Test Accuracy: 0.9233\n",
      "iter: 69 Test Accuracy: 0.9237\n",
      "iter: 70 Test Accuracy: 0.9237\n",
      "iter: 71 Test Accuracy: 0.924\n",
      "iter: 72 Test Accuracy: 0.9235\n",
      "iter: 73 Test Accuracy: 0.9231\n",
      "iter: 74 Test Accuracy: 0.924\n",
      "iter: 75 Test Accuracy: 0.924\n",
      "iter: 76 Test Accuracy: 0.9245\n",
      "iter: 77 Test Accuracy: 0.924\n",
      "iter: 78 Test Accuracy: 0.9245\n",
      "iter: 79 Test Accuracy: 0.9248\n",
      "iter: 80 Test Accuracy: 0.924\n",
      "iter: 81 Test Accuracy: 0.9242\n",
      "iter: 82 Test Accuracy: 0.9248\n",
      "iter: 83 Test Accuracy: 0.9247\n",
      "iter: 84 Test Accuracy: 0.9243\n",
      "iter: 85 Test Accuracy: 0.9252\n",
      "iter: 86 Test Accuracy: 0.9239\n",
      "iter: 87 Test Accuracy: 0.9243\n",
      "iter: 88 Test Accuracy: 0.9253\n",
      "iter: 89 Test Accuracy: 0.9258\n",
      "iter: 90 Test Accuracy: 0.9244\n",
      "iter: 91 Test Accuracy: 0.9255\n",
      "iter: 92 Test Accuracy: 0.9251\n",
      "iter: 93 Test Accuracy: 0.9242\n",
      "iter: 94 Test Accuracy: 0.9257\n",
      "iter: 95 Test Accuracy: 0.9257\n",
      "iter: 96 Test Accuracy: 0.9259\n",
      "iter: 97 Test Accuracy: 0.9253\n",
      "iter: 98 Test Accuracy: 0.9255\n",
      "iter: 99 Test Accuracy: 0.9254\n"
     ]
    }
   ],
   "source": [
    "num_epochs = 10\n",
    "train_model(net, train_iter, test_iter, loss, num_epochs, trainer)"
   ]
  },
  {
   "cell_type": "code",
   "execution_count": null,
   "metadata": {},
   "outputs": [],
   "source": []
  }
 ],
 "metadata": {
  "kernelspec": {
   "display_name": "Python 3",
   "language": "python",
   "name": "python3"
  },
  "language_info": {
   "codemirror_mode": {
    "name": "ipython",
    "version": 3
   },
   "file_extension": ".py",
   "mimetype": "text/x-python",
   "name": "python",
   "nbconvert_exporter": "python",
   "pygments_lexer": "ipython3",
   "version": "3.7.6"
  }
 },
 "nbformat": 4,
 "nbformat_minor": 4
}
